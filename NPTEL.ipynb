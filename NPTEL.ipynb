{
 "cells": [
  {
   "cell_type": "code",
   "execution_count": null,
   "metadata": {},
   "outputs": [],
   "source": [
    "import sys"
   ]
  },
  {
   "cell_type": "markdown",
   "metadata": {},
   "source": [
    "# GCD Euclids's Algorithm"
   ]
  },
  {
   "cell_type": "code",
   "execution_count": null,
   "metadata": {},
   "outputs": [],
   "source": [
    "def gcd(m,n):\n",
    "    if m<n :\n",
    "        m,n = n,m\n",
    "    if m%n == 0 :\n",
    "        return n\n",
    "    else :\n",
    "        diff = m-n\n",
    "        return gcd( max(diff,n) , min(diff,n) )\n",
    "m = int(input(\"Enter first number: \"))\n",
    "n = int(input(\"Enter second number: \"))\n",
    "result = gcd(m,n)\n",
    "print(result)"
   ]
  },
  {
   "cell_type": "markdown",
   "metadata": {},
   "source": [
    "# Prime numbers upto n"
   ]
  },
  {
   "cell_type": "code",
   "execution_count": null,
   "metadata": {},
   "outputs": [],
   "source": [
    "def primeUpto(n):\n",
    "    primelist = []\n",
    "    for i in range(1,n):\n",
    "        if isPrime(i):\n",
    "            primelist.append(i)\n",
    "    return primelist\n",
    "\n",
    "def isPrime(n):\n",
    "    return factors(n) == [1,n]\n",
    "\n",
    "def factors(n):\n",
    "    factorsList = []\n",
    "    for i in range(1,n+1):\n",
    "        if n % i == 0:\n",
    "            factorsList.append(i)\n",
    "    return factorsList"
   ]
  },
  {
   "cell_type": "markdown",
   "metadata": {},
   "source": [
    "# Binary Search"
   ]
  },
  {
   "cell_type": "code",
   "execution_count": null,
   "metadata": {},
   "outputs": [],
   "source": [
    " #Binary Search\n",
    " def binSearch(arr,item):\n",
    "     start = 0\n",
    "     end = len(arr) - 1\n",
    "     while start <= end :\n",
    "         mid = (start + end) // 2\n",
    "         if item == arr[mid] :\n",
    "            return True\n",
    "         elif item > arr[mid] :\n",
    "            start = mid + 1\n",
    "         elif item < arr[mid] :\n",
    "            end = mid - 1"
   ]
  },
  {
   "cell_type": "markdown",
   "metadata": {},
   "source": [
    "# Selection Sort"
   ]
  },
  {
   "cell_type": "code",
   "execution_count": null,
   "metadata": {},
   "outputs": [],
   "source": [
    "#Time complexity : O(n^2)\n",
    "\n",
    "def selectionSort(l):\n",
    "    for start in range(0,len(l)):\n",
    "        minpos = start\n",
    "        if l[i] < l[minpos]:\n",
    "            minpos = i\n",
    "        l[minpos], l[i] = l[i], l[minpos]"
   ]
  },
  {
   "cell_type": "markdown",
   "metadata": {},
   "source": [
    "# Insertion Sort"
   ]
  },
  {
   "cell_type": "code",
   "execution_count": null,
   "metadata": {},
   "outputs": [],
   "source": [
    "#Time Complexity: O(n^2)\n",
    "\n",
    "def insertionSort(seq):\n",
    "    for slicedEnd in range(len(seq)):\n",
    "        pos = slicedEnd\n",
    "        while pos > 0 and seq[pos] < seq[pos-1]:\n",
    "            (seq[pos],seq[pos-1]) = (seq[pos-1],seq[pos])"
   ]
  },
  {
   "cell_type": "markdown",
   "metadata": {},
   "source": [
    "# Merge Sort for two sorted arrays"
   ]
  },
  {
   "cell_type": "code",
   "execution_count": null,
   "metadata": {},
   "outputs": [],
   "source": [
    "#Combining (1 and 4) or (2 and 3) will result in error for some cases.\n",
    "#Time complexity : O(n logn)\n",
    "\n",
    "def merge(a,b):\n",
    "  (c, m, n) = ([], len(a), len(b))\n",
    "\n",
    "  (i, j)  = (0,0)\n",
    "\n",
    "  while i+j < m+n :\n",
    "    if i == m:                         #1\n",
    "      c.append(b[j])\n",
    "      j += 1\n",
    "    elif j == n:                       #2\n",
    "      c.append(a[i])\n",
    "      i += 1\n",
    "    elif a[i] <= b[j]:                 #3\n",
    "      c.append(a[i])\n",
    "      i += 1\n",
    "    elif b[j] < a[i]:                  #4\n",
    "      c.append(b[j])\n",
    "      j += 1\n",
    "\n",
    "  return c\n",
    "\n",
    "def mergeSort(a, left, right):\n",
    "\n",
    "  if right-left <= 1:\n",
    "    return a[left:right]\n",
    "\n",
    "  if right - left > 1:\n",
    "    mid = (left+right)//2\n",
    "\n",
    "    leftArray = mergesort(a, left, mid)\n",
    "    rightArray = mergesort(a, mid, right)\n",
    "\n",
    "    return merge(leftArray,rightArray)"
   ]
  },
  {
   "cell_type": "markdown",
   "metadata": {},
   "source": [
    "# OOP"
   ]
  },
  {
   "cell_type": "code",
   "execution_count": null,
   "metadata": {},
   "outputs": [],
   "source": [
    "class Parent:        # define parent class\n",
    "   def myMethod(self):\n",
    "      print ('Calling parent method')\n",
    "\n",
    "class Child(Parent): # define child class\n",
    "   def Method(self):\n",
    "      print ('Calling child method')\n",
    "\n",
    "c = Child()          # instance of child\n",
    "p = Parent()\n",
    "c.myMethod()\n",
    "p.myMethod()"
   ]
  },
  {
   "cell_type": "code",
   "execution_count": null,
   "metadata": {},
   "outputs": [],
   "source": []
  }
 ],
 "metadata": {
  "kernelspec": {
   "display_name": "Python 3.8.2 64-bit ('DSENV': venv)",
   "language": "python",
   "name": "python38264bitdsenvvenvdff5e4ac0bfb4789a7566b224d27b9f7"
  },
  "language_info": {
   "codemirror_mode": {
    "name": "ipython",
    "version": 3
   },
   "file_extension": ".py",
   "mimetype": "text/x-python",
   "name": "python",
   "nbconvert_exporter": "python",
   "pygments_lexer": "ipython3",
   "version": "3.8.2"
  }
 },
 "nbformat": 4,
 "nbformat_minor": 4
}
